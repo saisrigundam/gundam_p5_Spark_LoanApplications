{
 "cells": [
  {
   "cell_type": "code",
   "execution_count": 1,
   "id": "c7e63f0c-66c9-4aed-afe9-6279e82e9d53",
   "metadata": {},
   "outputs": [],
   "source": [
    "# Sai Krishna Sri Gundam"
   ]
  },
  {
   "cell_type": "code",
   "execution_count": 2,
   "id": "46c2125c-72ee-4f3e-9275-9aebaf86fcd8",
   "metadata": {},
   "outputs": [],
   "source": [
    "from pyspark.sql import SparkSession\n",
    "from pyspark.sql.functions import col, expr, lower, count, sum, when\n",
    "import matplotlib.pyplot as plt\n",
    "import pandas as pd\n",
    "import numpy as np\n",
    "from pyspark.ml.feature import VectorAssembler\n",
    "from pyspark.ml.classification import DecisionTreeClassifier\n",
    "from pyspark.ml.evaluation import MulticlassClassificationEvaluator"
   ]
  },
  {
   "cell_type": "code",
   "execution_count": 3,
   "id": "163b7753-73d1-45d9-8dbf-3315c8a331d8",
   "metadata": {},
   "outputs": [],
   "source": [
    "! hdfs dfs -D dfs.replication=1 -cp -f data/*.csv hdfs://nn:9000/"
   ]
  },
  {
   "cell_type": "code",
   "execution_count": 4,
   "id": "697670ed-e513-4397-89c6-f3eec860f7ad",
   "metadata": {},
   "outputs": [
    {
     "name": "stderr",
     "output_type": "stream",
     "text": [
      "Setting default log level to \"WARN\".\n",
      "To adjust logging level use sc.setLogLevel(newLevel). For SparkR, use setLogLevel(newLevel).\n",
      "23/11/08 01:58:40 WARN NativeCodeLoader: Unable to load native-hadoop library for your platform... using builtin-java classes where applicable\n"
     ]
    }
   ],
   "source": [
    "spark = (SparkSession.builder.appName(\"cs544\")\n",
    "         .master(\"spark://boss:7077\")\n",
    "         .config(\"spark.executor.memory\", \"512M\")\n",
    "         .config(\"spark.sql.warehouse.dir\", \"hdfs://nn:9000/user/hive/warehouse\")\n",
    "         .enableHiveSupport()\n",
    "         .getOrCreate())"
   ]
  },
  {
   "cell_type": "code",
   "execution_count": 5,
   "id": "9dc72b7c-2071-4c13-a1b4-62f134232395",
   "metadata": {},
   "outputs": [
    {
     "name": "stderr",
     "output_type": "stream",
     "text": [
      "                                                                                \r"
     ]
    },
    {
     "data": {
      "text/html": [
       "<div>\n",
       "<style scoped>\n",
       "    .dataframe tbody tr th:only-of-type {\n",
       "        vertical-align: middle;\n",
       "    }\n",
       "\n",
       "    .dataframe tbody tr th {\n",
       "        vertical-align: top;\n",
       "    }\n",
       "\n",
       "    .dataframe thead th {\n",
       "        text-align: right;\n",
       "    }\n",
       "</style>\n",
       "<table border=\"1\" class=\"dataframe\">\n",
       "  <thead>\n",
       "    <tr style=\"text-align: right;\">\n",
       "      <th></th>\n",
       "      <th>respondent_name</th>\n",
       "      <th>arid_2017</th>\n",
       "      <th>lei_2018</th>\n",
       "      <th>lei_2019</th>\n",
       "      <th>lei_2020</th>\n",
       "    </tr>\n",
       "  </thead>\n",
       "  <tbody>\n",
       "    <tr>\n",
       "      <th>0</th>\n",
       "      <td>First National Bank</td>\n",
       "      <td>110004</td>\n",
       "      <td>5493003EW6T31TGECO83</td>\n",
       "      <td>5493003EW6T31TGECO83</td>\n",
       "      <td>5493003EW6T31TGECO83</td>\n",
       "    </tr>\n",
       "    <tr>\n",
       "      <th>1</th>\n",
       "      <td>First Mid Bank &amp; Trust, National Association</td>\n",
       "      <td>110045</td>\n",
       "      <td>549300XOTES5TCS8T794</td>\n",
       "      <td>549300XOTES5TCS8T794</td>\n",
       "      <td>549300XOTES5TCS8T794</td>\n",
       "    </tr>\n",
       "  </tbody>\n",
       "</table>\n",
       "</div>"
      ],
      "text/plain": [
       "                                respondent_name arid_2017  \\\n",
       "0                           First National Bank    110004   \n",
       "1  First Mid Bank & Trust, National Association    110045   \n",
       "\n",
       "               lei_2018              lei_2019              lei_2020  \n",
       "0  5493003EW6T31TGECO83  5493003EW6T31TGECO83  5493003EW6T31TGECO83  \n",
       "1  549300XOTES5TCS8T794  549300XOTES5TCS8T794  549300XOTES5TCS8T794  "
      ]
     },
     "execution_count": 5,
     "metadata": {},
     "output_type": "execute_result"
    }
   ],
   "source": [
    "# TODO: modify to treat the first row as a header\n",
    "# TODO: modify to infer the schema\n",
    "banks_df = spark.read.csv(\"hdfs://nn:9000/arid2017_to_lei_xref_csv.csv\", header=True, inferSchema=True)\n",
    "banks_df.limit(2).toPandas()"
   ]
  },
  {
   "cell_type": "code",
   "execution_count": 6,
   "id": "7bd5e223-da89-468d-b448-3fb269bcb7ac",
   "metadata": {},
   "outputs": [
    {
     "name": "stderr",
     "output_type": "stream",
     "text": [
      "                                                                                \r"
     ]
    },
    {
     "data": {
      "text/plain": [
       "[Row(respondent_name='First National Bank', arid_2017='110004', lei_2018='5493003EW6T31TGECO83', lei_2019='5493003EW6T31TGECO83', lei_2020='5493003EW6T31TGECO83'),\n",
       " Row(respondent_name='First Mid Bank & Trust, National Association', arid_2017='110045', lei_2018='549300XOTES5TCS8T794', lei_2019='549300XOTES5TCS8T794', lei_2020='549300XOTES5TCS8T794'),\n",
       " Row(respondent_name='First Hope Bank, A National Banking Association', arid_2017='110118', lei_2018='5493003XLOX5FDT9R120', lei_2019='5493003XLOX5FDT9R120', lei_2020='5493003XLOX5FDT9R120')]"
      ]
     },
     "execution_count": 6,
     "metadata": {},
     "output_type": "execute_result"
    }
   ],
   "source": [
    "rdd = banks_df.rdd\n",
    "rows = rdd.take(3)\n",
    "rows"
   ]
  },
  {
   "cell_type": "code",
   "execution_count": 7,
   "id": "b01e604d-2742-4593-9b1f-276b86a5cdba",
   "metadata": {},
   "outputs": [
    {
     "data": {
      "text/plain": [
       "525"
      ]
     },
     "execution_count": 7,
     "metadata": {},
     "output_type": "execute_result"
    }
   ],
   "source": [
    "#q1\n",
    "rdd = banks_df.rdd\n",
    "first_rdd = rdd.filter(lambda row: \"first\" in row[\"respondent_name\"].lower())\n",
    "count_firsts_rdd = first_rdd.count()\n",
    "count_firsts_rdd"
   ]
  },
  {
   "cell_type": "code",
   "execution_count": 8,
   "id": "408b9b43-0daf-4572-9325-b49578882c7b",
   "metadata": {},
   "outputs": [
    {
     "data": {
      "text/plain": [
       "525"
      ]
     },
     "execution_count": 8,
     "metadata": {},
     "output_type": "execute_result"
    }
   ],
   "source": [
    "#q2\n",
    "first_df = banks_df.filter(lower(col(\"respondent_name\")).like(\"%first%\"))\n",
    "count_firsts_df = first_df.count()\n",
    "count_firsts_df"
   ]
  },
  {
   "cell_type": "code",
   "execution_count": 9,
   "id": "649417f8-479c-48be-a856-444e2adbdd25",
   "metadata": {},
   "outputs": [
    {
     "name": "stderr",
     "output_type": "stream",
     "text": [
      "23/11/08 01:59:19 WARN HiveConf: HiveConf of name hive.stats.jdbc.timeout does not exist\n",
      "23/11/08 01:59:19 WARN HiveConf: HiveConf of name hive.stats.retries.wait does not exist\n",
      "23/11/08 01:59:23 WARN ObjectStore: Version information not found in metastore. hive.metastore.schema.verification is not enabled so recording the schema version 2.3.0\n",
      "23/11/08 01:59:23 WARN ObjectStore: setMetaStoreSchemaVersion called but recording version is disabled: version = 2.3.0, comment = Set by MetaStore UNKNOWN@172.24.0.2\n",
      "23/11/08 01:59:24 WARN ObjectStore: Failed to get database global_temp, returning NoSuchObjectException\n",
      "23/11/08 01:59:29 WARN SessionState: METASTORE_FILTER_HOOK will be ignored, since hive.security.authorization.manager is set to instance of HiveAuthorizerFactory.\n",
      "23/11/08 01:59:29 WARN HiveConf: HiveConf of name hive.internal.ss.authz.settings.applied.marker does not exist\n",
      "23/11/08 01:59:29 WARN HiveConf: HiveConf of name hive.stats.jdbc.timeout does not exist\n",
      "23/11/08 01:59:29 WARN HiveConf: HiveConf of name hive.stats.retries.wait does not exist\n"
     ]
    }
   ],
   "source": [
    "banks_df.write.saveAsTable(\"banks\", mode=\"overwrite\")"
   ]
  },
  {
   "cell_type": "code",
   "execution_count": 10,
   "id": "b4c51ccc-5feb-4d0c-a615-85e26317a7f7",
   "metadata": {},
   "outputs": [
    {
     "name": "stderr",
     "output_type": "stream",
     "text": [
      "                                                                                \r"
     ]
    },
    {
     "data": {
      "text/plain": [
       "525"
      ]
     },
     "execution_count": 10,
     "metadata": {},
     "output_type": "execute_result"
    }
   ],
   "source": [
    "#q3\n",
    "first_sql = spark.sql(\"SELECT COUNT(*) AS count FROM banks WHERE LOWER(respondent_name) LIKE '%first%'\")\n",
    "count_first_sql = first_sql.collect()[0][\"count\"]\n",
    "count_first_sql"
   ]
  },
  {
   "cell_type": "code",
   "execution_count": 11,
   "id": "8ee2b179-24fe-4985-bad1-b752e64f5f07",
   "metadata": {},
   "outputs": [
    {
     "name": "stderr",
     "output_type": "stream",
     "text": [
      "                                                                                \r"
     ]
    }
   ],
   "source": [
    "loans_df = spark.read.csv(\"hdfs://nn:9000/hdma-wi-2021.csv\", header=True, inferSchema=True)"
   ]
  },
  {
   "cell_type": "code",
   "execution_count": 12,
   "id": "f6ddb676-fe75-4fc2-987a-ee549d7a2037",
   "metadata": {},
   "outputs": [
    {
     "name": "stderr",
     "output_type": "stream",
     "text": [
      "23/11/08 01:59:44 WARN SparkStringUtils: Truncated the string representation of a plan since it was too large. This behavior can be adjusted by setting 'spark.sql.debug.maxToStringFields'.\n",
      "                                                                                \r"
     ]
    }
   ],
   "source": [
    "loans_df.write.bucketBy(8, \"county_code\").saveAsTable(\"loans\", mode=\"overwrite\")"
   ]
  },
  {
   "cell_type": "code",
   "execution_count": 13,
   "id": "ce669faf-e206-4354-9dc4-899306824c2f",
   "metadata": {},
   "outputs": [
    {
     "name": "stderr",
     "output_type": "stream",
     "text": [
      "                                                                                \r"
     ]
    },
    {
     "data": {
      "text/html": [
       "<div>\n",
       "<style scoped>\n",
       "    .dataframe tbody tr th:only-of-type {\n",
       "        vertical-align: middle;\n",
       "    }\n",
       "\n",
       "    .dataframe tbody tr th {\n",
       "        vertical-align: top;\n",
       "    }\n",
       "\n",
       "    .dataframe thead th {\n",
       "        text-align: right;\n",
       "    }\n",
       "</style>\n",
       "<table border=\"1\" class=\"dataframe\">\n",
       "  <thead>\n",
       "    <tr style=\"text-align: right;\">\n",
       "      <th></th>\n",
       "      <th>activity_year</th>\n",
       "      <th>lei</th>\n",
       "      <th>derived_msa-md</th>\n",
       "      <th>state_code</th>\n",
       "      <th>county_code</th>\n",
       "      <th>census_tract</th>\n",
       "      <th>conforming_loan_limit</th>\n",
       "      <th>derived_loan_product_type</th>\n",
       "      <th>derived_dwelling_category</th>\n",
       "      <th>derived_ethnicity</th>\n",
       "      <th>...</th>\n",
       "      <th>denial_reason-2</th>\n",
       "      <th>denial_reason-3</th>\n",
       "      <th>denial_reason-4</th>\n",
       "      <th>tract_population</th>\n",
       "      <th>tract_minority_population_percent</th>\n",
       "      <th>ffiec_msa_md_median_family_income</th>\n",
       "      <th>tract_to_msa_income_percentage</th>\n",
       "      <th>tract_owner_occupied_units</th>\n",
       "      <th>tract_one_to_four_family_homes</th>\n",
       "      <th>tract_median_age_of_housing_units</th>\n",
       "    </tr>\n",
       "  </thead>\n",
       "  <tbody>\n",
       "    <tr>\n",
       "      <th>0</th>\n",
       "      <td>2021</td>\n",
       "      <td>549300FQ2SN6TRRGB032</td>\n",
       "      <td>99999</td>\n",
       "      <td>WI</td>\n",
       "      <td>55055</td>\n",
       "      <td>55055100602</td>\n",
       "      <td>C</td>\n",
       "      <td>Conventional:First Lien</td>\n",
       "      <td>Single Family (1-4 Units):Site-Built</td>\n",
       "      <td>Not Hispanic or Latino</td>\n",
       "      <td>...</td>\n",
       "      <td>NaN</td>\n",
       "      <td>NaN</td>\n",
       "      <td>NaN</td>\n",
       "      <td>3351</td>\n",
       "      <td>2.98</td>\n",
       "      <td>69600</td>\n",
       "      <td>112</td>\n",
       "      <td>1201</td>\n",
       "      <td>1689</td>\n",
       "      <td>38</td>\n",
       "    </tr>\n",
       "    <tr>\n",
       "      <th>1</th>\n",
       "      <td>2021</td>\n",
       "      <td>254900HA4DQWAE0W3342</td>\n",
       "      <td>31540</td>\n",
       "      <td>WI</td>\n",
       "      <td>55025</td>\n",
       "      <td>55025012700</td>\n",
       "      <td>C</td>\n",
       "      <td>Conventional:First Lien</td>\n",
       "      <td>Single Family (1-4 Units):Site-Built</td>\n",
       "      <td>Ethnicity Not Available</td>\n",
       "      <td>...</td>\n",
       "      <td>NaN</td>\n",
       "      <td>NaN</td>\n",
       "      <td>NaN</td>\n",
       "      <td>4053</td>\n",
       "      <td>3.38</td>\n",
       "      <td>99000</td>\n",
       "      <td>109</td>\n",
       "      <td>1346</td>\n",
       "      <td>1638</td>\n",
       "      <td>27</td>\n",
       "    </tr>\n",
       "  </tbody>\n",
       "</table>\n",
       "<p>2 rows × 99 columns</p>\n",
       "</div>"
      ],
      "text/plain": [
       "   activity_year                   lei  derived_msa-md state_code county_code  \\\n",
       "0           2021  549300FQ2SN6TRRGB032           99999         WI       55055   \n",
       "1           2021  254900HA4DQWAE0W3342           31540         WI       55025   \n",
       "\n",
       "  census_tract conforming_loan_limit derived_loan_product_type  \\\n",
       "0  55055100602                     C   Conventional:First Lien   \n",
       "1  55025012700                     C   Conventional:First Lien   \n",
       "\n",
       "              derived_dwelling_category        derived_ethnicity  ...  \\\n",
       "0  Single Family (1-4 Units):Site-Built   Not Hispanic or Latino  ...   \n",
       "1  Single Family (1-4 Units):Site-Built  Ethnicity Not Available  ...   \n",
       "\n",
       "  denial_reason-2 denial_reason-3  denial_reason-4  tract_population  \\\n",
       "0             NaN             NaN              NaN              3351   \n",
       "1             NaN             NaN              NaN              4053   \n",
       "\n",
       "   tract_minority_population_percent  ffiec_msa_md_median_family_income  \\\n",
       "0                               2.98                              69600   \n",
       "1                               3.38                              99000   \n",
       "\n",
       "   tract_to_msa_income_percentage  tract_owner_occupied_units  \\\n",
       "0                             112                        1201   \n",
       "1                             109                        1346   \n",
       "\n",
       "   tract_one_to_four_family_homes  tract_median_age_of_housing_units  \n",
       "0                            1689                                 38  \n",
       "1                            1638                                 27  \n",
       "\n",
       "[2 rows x 99 columns]"
      ]
     },
     "execution_count": 13,
     "metadata": {},
     "output_type": "execute_result"
    }
   ],
   "source": [
    "spark.table(\"loans\").limit(2).toPandas()"
   ]
  },
  {
   "cell_type": "code",
   "execution_count": 14,
   "id": "d0d4b42c-a86d-4f5c-a198-cbe3ae8ab809",
   "metadata": {},
   "outputs": [],
   "source": [
    "df = spark.read.csv(f\"hdfs://nn:9000/ethnicity.csv\", header=True, inferSchema=True)\n",
    "df.createOrReplaceTempView(\"ethnicity\")"
   ]
  },
  {
   "cell_type": "code",
   "execution_count": 15,
   "id": "df49ecb5-6bfd-4160-a546-d5e4b52bdeda",
   "metadata": {},
   "outputs": [],
   "source": [
    "df = spark.read.csv(f\"hdfs://nn:9000/race.csv\", header=True, inferSchema=True)\n",
    "df.createOrReplaceTempView(\"race\")"
   ]
  },
  {
   "cell_type": "code",
   "execution_count": 16,
   "id": "611b23b6-5722-4e00-95f0-a9065d9d3acc",
   "metadata": {},
   "outputs": [],
   "source": [
    "df = spark.read.csv(f\"hdfs://nn:9000/sex.csv\", header=True, inferSchema=True)\n",
    "df.createOrReplaceTempView(\"sex\")"
   ]
  },
  {
   "cell_type": "code",
   "execution_count": 17,
   "id": "7fb89be4-1252-471f-87ce-08632f5e6156",
   "metadata": {},
   "outputs": [],
   "source": [
    "df = spark.read.csv(f\"hdfs://nn:9000/states.csv\", header=True, inferSchema=True)\n",
    "df.createOrReplaceTempView(\"states\")"
   ]
  },
  {
   "cell_type": "code",
   "execution_count": 18,
   "id": "48652a23-5c8e-4975-9375-6d0d01fda737",
   "metadata": {},
   "outputs": [],
   "source": [
    "df = spark.read.csv(f\"hdfs://nn:9000/counties.csv\", header=True, inferSchema=True)\n",
    "df.createOrReplaceTempView(\"counties\")"
   ]
  },
  {
   "cell_type": "code",
   "execution_count": 19,
   "id": "50d6aed7-84f8-40d1-99b2-4ea6534e9c4a",
   "metadata": {},
   "outputs": [
    {
     "name": "stderr",
     "output_type": "stream",
     "text": [
      "                                                                                \r"
     ]
    }
   ],
   "source": [
    "df = spark.read.csv(f\"hdfs://nn:9000/tracts.csv\", header=True, inferSchema=True)\n",
    "df.createOrReplaceTempView(\"tracts\")"
   ]
  },
  {
   "cell_type": "code",
   "execution_count": 20,
   "id": "d29a1263-a052-4955-baff-98201a15a421",
   "metadata": {},
   "outputs": [],
   "source": [
    "df = spark.read.csv(f\"hdfs://nn:9000/action_taken.csv\", header=True, inferSchema=True)\n",
    "df.createOrReplaceTempView(\"action_taken\")"
   ]
  },
  {
   "cell_type": "code",
   "execution_count": 21,
   "id": "89313a4b-0b5e-4661-9ad4-721b8b4b58ea",
   "metadata": {},
   "outputs": [],
   "source": [
    "df = spark.read.csv(f\"hdfs://nn:9000/denial_reason.csv\", header=True, inferSchema=True)\n",
    "df.createOrReplaceTempView(\"denial_reason\")"
   ]
  },
  {
   "cell_type": "code",
   "execution_count": 22,
   "id": "27e7418d-5246-487f-8bad-4deea7c544bb",
   "metadata": {},
   "outputs": [],
   "source": [
    "df = spark.read.csv(f\"hdfs://nn:9000/loan_type.csv\", header=True, inferSchema=True)\n",
    "df.createOrReplaceTempView(\"loan_type\")"
   ]
  },
  {
   "cell_type": "code",
   "execution_count": 23,
   "id": "a8db3c44-620c-4b65-b843-f70cecdb65e8",
   "metadata": {},
   "outputs": [],
   "source": [
    "df = spark.read.csv(f\"hdfs://nn:9000/preapproval.csv\", header=True, inferSchema=True)\n",
    "df.createOrReplaceTempView(\"preapproval\")"
   ]
  },
  {
   "cell_type": "code",
   "execution_count": 24,
   "id": "4afbcc2e-a057-4e56-9530-07fb579c190f",
   "metadata": {},
   "outputs": [],
   "source": [
    "df = spark.read.csv(f\"hdfs://nn:9000/property_type.csv\", header=True, inferSchema=True)\n",
    "df.createOrReplaceTempView(\"property_type\")"
   ]
  },
  {
   "cell_type": "code",
   "execution_count": 25,
   "id": "a1b7d42c-64e8-40e7-a3be-8929f2c4b24b",
   "metadata": {},
   "outputs": [],
   "source": [
    "df = spark.read.csv(f\"hdfs://nn:9000/loan_purpose.csv\", header=True, inferSchema=True)\n",
    "df.createOrReplaceTempView(\"loan_purpose\")"
   ]
  },
  {
   "cell_type": "code",
   "execution_count": 26,
   "id": "70a2d9ef-727e-4679-bb06-6d8fbd270208",
   "metadata": {},
   "outputs": [
    {
     "data": {
      "text/plain": [
       "{'banks': False,\n",
       " 'loans': False,\n",
       " 'action_taken': True,\n",
       " 'counties': True,\n",
       " 'denial_reason': True,\n",
       " 'ethnicity': True,\n",
       " 'loan_purpose': True,\n",
       " 'loan_type': True,\n",
       " 'preapproval': True,\n",
       " 'property_type': True,\n",
       " 'race': True,\n",
       " 'sex': True,\n",
       " 'states': True,\n",
       " 'tracts': True}"
      ]
     },
     "execution_count": 26,
     "metadata": {},
     "output_type": "execute_result"
    }
   ],
   "source": [
    "#q4\n",
    "df = spark.sql(\"SHOW TABLES\")\n",
    "dict_tables = {row[\"tableName\"]: row[\"isTemporary\"] for row in df.collect()}\n",
    "dict_tables"
   ]
  },
  {
   "cell_type": "code",
   "execution_count": 27,
   "id": "665432fb-c2a3-4d56-891f-1c00f00f422a",
   "metadata": {
    "scrolled": true
   },
   "outputs": [
    {
     "name": "stderr",
     "output_type": "stream",
     "text": [
      "                                                                                \r"
     ]
    },
    {
     "data": {
      "text/plain": [
       "19739"
      ]
     },
     "execution_count": 27,
     "metadata": {},
     "output_type": "execute_result"
    }
   ],
   "source": [
    "#q5\n",
    "join_sql = spark.sql(\"\"\"\n",
    "SELECT COUNT(*) AS appli_count\n",
    "FROM loans\n",
    "INNER JOIN banks\n",
    "ON loans.lei = banks.lei_2020\n",
    "WHERE banks.lei_2020 IN (select lei_2020 from banks where banks.respondent_name = \"University of Wisconsin Credit Union\")\n",
    "\"\"\")\n",
    "loan_app_count = join_sql.collect()[0][\"appli_count\"]\n",
    "loan_app_count"
   ]
  },
  {
   "cell_type": "code",
   "execution_count": 28,
   "id": "035f72f9-3045-4cb5-a33a-68f6938e33f5",
   "metadata": {},
   "outputs": [
    {
     "name": "stdout",
     "output_type": "stream",
     "text": [
      "== Physical Plan ==\n",
      "AdaptiveSparkPlan (21)\n",
      "+- HashAggregate (20)\n",
      "   +- Exchange (19)\n",
      "      +- HashAggregate (18)\n",
      "         +- Project (17)\n",
      "            +- BroadcastHashJoin Inner BuildRight (16)\n",
      "               :- BroadcastHashJoin LeftSemi BuildRight (7)\n",
      "               :  :- Filter (2)\n",
      "               :  :  +- Scan parquet spark_catalog.default.loans (1)\n",
      "               :  +- BroadcastExchange (6)\n",
      "               :     +- Project (5)\n",
      "               :        +- Filter (4)\n",
      "               :           +- Scan parquet spark_catalog.default.banks (3)\n",
      "               +- BroadcastExchange (15)\n",
      "                  +- BroadcastHashJoin LeftSemi BuildRight (14)\n",
      "                     :- Filter (9)\n",
      "                     :  +- Scan parquet spark_catalog.default.banks (8)\n",
      "                     +- BroadcastExchange (13)\n",
      "                        +- Project (12)\n",
      "                           +- Filter (11)\n",
      "                              +- Scan parquet spark_catalog.default.banks (10)\n",
      "\n",
      "\n",
      "(1) Scan parquet spark_catalog.default.loans\n",
      "Output [1]: [lei#692]\n",
      "Batched: true\n",
      "Bucketed: false (bucket column(s) not read)\n",
      "Location: InMemoryFileIndex [hdfs://nn:9000/user/hive/warehouse/loans]\n",
      "PushedFilters: [IsNotNull(lei)]\n",
      "ReadSchema: struct<lei:string>\n",
      "\n",
      "(2) Filter\n",
      "Input [1]: [lei#692]\n",
      "Condition : isnotnull(lei#692)\n",
      "\n",
      "(3) Scan parquet spark_catalog.default.banks\n",
      "Output [2]: [respondent_name#1204, lei_2020#1208]\n",
      "Batched: true\n",
      "Location: InMemoryFileIndex [hdfs://nn:9000/user/hive/warehouse/banks]\n",
      "PushedFilters: [IsNotNull(respondent_name), EqualTo(respondent_name,University of Wisconsin Credit Union)]\n",
      "ReadSchema: struct<respondent_name:string,lei_2020:string>\n",
      "\n",
      "(4) Filter\n",
      "Input [2]: [respondent_name#1204, lei_2020#1208]\n",
      "Condition : (isnotnull(respondent_name#1204) AND (respondent_name#1204 = University of Wisconsin Credit Union))\n",
      "\n",
      "(5) Project\n",
      "Output [1]: [lei_2020#1208]\n",
      "Input [2]: [respondent_name#1204, lei_2020#1208]\n",
      "\n",
      "(6) BroadcastExchange\n",
      "Input [1]: [lei_2020#1208]\n",
      "Arguments: HashedRelationBroadcastMode(List(input[0, string, true]),false), [plan_id=859]\n",
      "\n",
      "(7) BroadcastHashJoin\n",
      "Left keys [1]: [lei#692]\n",
      "Right keys [1]: [lei_2020#1208]\n",
      "Join type: LeftSemi\n",
      "Join condition: None\n",
      "\n",
      "(8) Scan parquet spark_catalog.default.banks\n",
      "Output [1]: [lei_2020#75]\n",
      "Batched: true\n",
      "Location: InMemoryFileIndex [hdfs://nn:9000/user/hive/warehouse/banks]\n",
      "PushedFilters: [IsNotNull(lei_2020)]\n",
      "ReadSchema: struct<lei_2020:string>\n",
      "\n",
      "(9) Filter\n",
      "Input [1]: [lei_2020#75]\n",
      "Condition : isnotnull(lei_2020#75)\n",
      "\n",
      "(10) Scan parquet spark_catalog.default.banks\n",
      "Output [2]: [respondent_name#1204, lei_2020#1208]\n",
      "Batched: true\n",
      "Location: InMemoryFileIndex [hdfs://nn:9000/user/hive/warehouse/banks]\n",
      "PushedFilters: [IsNotNull(respondent_name), EqualTo(respondent_name,University of Wisconsin Credit Union)]\n",
      "ReadSchema: struct<respondent_name:string,lei_2020:string>\n",
      "\n",
      "(11) Filter\n",
      "Input [2]: [respondent_name#1204, lei_2020#1208]\n",
      "Condition : (isnotnull(respondent_name#1204) AND (respondent_name#1204 = University of Wisconsin Credit Union))\n",
      "\n",
      "(12) Project\n",
      "Output [1]: [lei_2020#1208]\n",
      "Input [2]: [respondent_name#1204, lei_2020#1208]\n",
      "\n",
      "(13) BroadcastExchange\n",
      "Input [1]: [lei_2020#1208]\n",
      "Arguments: HashedRelationBroadcastMode(List(input[0, string, true]),false), [plan_id=861]\n",
      "\n",
      "(14) BroadcastHashJoin\n",
      "Left keys [1]: [lei_2020#75]\n",
      "Right keys [1]: [lei_2020#1208]\n",
      "Join type: LeftSemi\n",
      "Join condition: None\n",
      "\n",
      "(15) BroadcastExchange\n",
      "Input [1]: [lei_2020#75]\n",
      "Arguments: HashedRelationBroadcastMode(List(input[0, string, false]),false), [plan_id=864]\n",
      "\n",
      "(16) BroadcastHashJoin\n",
      "Left keys [1]: [lei#692]\n",
      "Right keys [1]: [lei_2020#75]\n",
      "Join type: Inner\n",
      "Join condition: None\n",
      "\n",
      "(17) Project\n",
      "Output: []\n",
      "Input [2]: [lei#692, lei_2020#75]\n",
      "\n",
      "(18) HashAggregate\n",
      "Input: []\n",
      "Keys: []\n",
      "Functions [1]: [partial_count(1)]\n",
      "Aggregate Attributes [1]: [count#1210L]\n",
      "Results [1]: [count#1211L]\n",
      "\n",
      "(19) Exchange\n",
      "Input [1]: [count#1211L]\n",
      "Arguments: SinglePartition, ENSURE_REQUIREMENTS, [plan_id=869]\n",
      "\n",
      "(20) HashAggregate\n",
      "Input [1]: [count#1211L]\n",
      "Keys: []\n",
      "Functions [1]: [count(1)]\n",
      "Aggregate Attributes [1]: [count(1)#1203L]\n",
      "Results [1]: [count(1)#1203L AS appli_count#1201L]\n",
      "\n",
      "(21) AdaptiveSparkPlan\n",
      "Output [1]: [appli_count#1201L]\n",
      "Arguments: isFinalPlan=false\n",
      "\n",
      "\n"
     ]
    }
   ],
   "source": [
    "#q6\n",
    "spark.sql(\"\"\"\n",
    "SELECT COUNT(*) AS appli_count\n",
    "FROM loans\n",
    "INNER JOIN banks\n",
    "ON loans.lei = banks.lei_2020\n",
    "WHERE banks.lei_2020 IN (select lei_2020 from banks where banks.respondent_name = \"University of Wisconsin Credit Union\")\n",
    "\"\"\").explain(\"formatted\")\n",
    "\n",
    "#The \"banks\" table is sent to every executor via a BroadcastExchange operation at 6, 13, and 15.\n",
    "#The plan involves HashAggregate operations at indexes 18 and 20, at HashAggregate(18) the partial count is calculated and\n",
    "# at HashAggregate(20) a regular count is calculated."
   ]
  },
  {
   "cell_type": "code",
   "execution_count": 29,
   "id": "88f8e5d0-5df2-403d-adea-80ceda1013c7",
   "metadata": {},
   "outputs": [],
   "source": [
    "loans = spark.table(\"loans\")\n",
    "counties = spark.table(\"counties\")\n",
    "banks = spark.table(\"banks\")"
   ]
  },
  {
   "cell_type": "code",
   "execution_count": 30,
   "id": "f0c75bff-f6c7-44fc-81cc-2ab8a6cf239f",
   "metadata": {},
   "outputs": [
    {
     "data": {
      "text/html": [
       "<div>\n",
       "<style scoped>\n",
       "    .dataframe tbody tr th:only-of-type {\n",
       "        vertical-align: middle;\n",
       "    }\n",
       "\n",
       "    .dataframe tbody tr th {\n",
       "        vertical-align: top;\n",
       "    }\n",
       "\n",
       "    .dataframe thead th {\n",
       "        text-align: right;\n",
       "    }\n",
       "</style>\n",
       "<table border=\"1\" class=\"dataframe\">\n",
       "  <thead>\n",
       "    <tr style=\"text-align: right;\">\n",
       "      <th></th>\n",
       "      <th>AREA</th>\n",
       "      <th>PERIMETER</th>\n",
       "      <th>CO99_D00_</th>\n",
       "      <th>CO99_D00_I</th>\n",
       "      <th>STATE</th>\n",
       "      <th>COUNTY</th>\n",
       "      <th>NAME</th>\n",
       "      <th>LSAD</th>\n",
       "      <th>LSAD_TRANS</th>\n",
       "    </tr>\n",
       "  </thead>\n",
       "  <tbody>\n",
       "    <tr>\n",
       "      <th>0</th>\n",
       "      <td>52.91341</td>\n",
       "      <td>60.56496</td>\n",
       "      <td>2.0</td>\n",
       "      <td>1.0</td>\n",
       "      <td>2</td>\n",
       "      <td>185</td>\n",
       "      <td>North Slope</td>\n",
       "      <td>4</td>\n",
       "      <td>Borough</td>\n",
       "    </tr>\n",
       "    <tr>\n",
       "      <th>1</th>\n",
       "      <td>74.22506</td>\n",
       "      <td>63.13100</td>\n",
       "      <td>3.0</td>\n",
       "      <td>2.0</td>\n",
       "      <td>2</td>\n",
       "      <td>290</td>\n",
       "      <td>Yukon-Koyukuk</td>\n",
       "      <td>5</td>\n",
       "      <td>Census Area</td>\n",
       "    </tr>\n",
       "  </tbody>\n",
       "</table>\n",
       "</div>"
      ],
      "text/plain": [
       "       AREA  PERIMETER  CO99_D00_  CO99_D00_I  STATE  COUNTY           NAME  \\\n",
       "0  52.91341   60.56496        2.0         1.0      2     185    North Slope   \n",
       "1  74.22506   63.13100        3.0         2.0      2     290  Yukon-Koyukuk   \n",
       "\n",
       "   LSAD   LSAD_TRANS  \n",
       "0     4      Borough  \n",
       "1     5  Census Area  "
      ]
     },
     "execution_count": 30,
     "metadata": {},
     "output_type": "execute_result"
    }
   ],
   "source": [
    "counties.limit(2).toPandas() "
   ]
  },
  {
   "cell_type": "code",
   "execution_count": 31,
   "id": "eca1647c-f064-44d1-9e3a-f1585cdf6461",
   "metadata": {},
   "outputs": [
    {
     "data": {
      "text/html": [
       "<div>\n",
       "<style scoped>\n",
       "    .dataframe tbody tr th:only-of-type {\n",
       "        vertical-align: middle;\n",
       "    }\n",
       "\n",
       "    .dataframe tbody tr th {\n",
       "        vertical-align: top;\n",
       "    }\n",
       "\n",
       "    .dataframe thead th {\n",
       "        text-align: right;\n",
       "    }\n",
       "</style>\n",
       "<table border=\"1\" class=\"dataframe\">\n",
       "  <thead>\n",
       "    <tr style=\"text-align: right;\">\n",
       "      <th></th>\n",
       "      <th>respondent_name</th>\n",
       "      <th>arid_2017</th>\n",
       "      <th>lei_2018</th>\n",
       "      <th>lei_2019</th>\n",
       "      <th>lei_2020</th>\n",
       "    </tr>\n",
       "  </thead>\n",
       "  <tbody>\n",
       "    <tr>\n",
       "      <th>0</th>\n",
       "      <td>Wells Fargo Bank, National Association</td>\n",
       "      <td>9451965</td>\n",
       "      <td>KB1H1DSPRFMYMCUFXT09</td>\n",
       "      <td>KB1H1DSPRFMYMCUFXT09</td>\n",
       "      <td>KB1H1DSPRFMYMCUFXT09</td>\n",
       "    </tr>\n",
       "  </tbody>\n",
       "</table>\n",
       "</div>"
      ],
      "text/plain": [
       "                          respondent_name arid_2017              lei_2018  \\\n",
       "0  Wells Fargo Bank, National Association   9451965  KB1H1DSPRFMYMCUFXT09   \n",
       "\n",
       "               lei_2019              lei_2020  \n",
       "0  KB1H1DSPRFMYMCUFXT09  KB1H1DSPRFMYMCUFXT09  "
      ]
     },
     "execution_count": 31,
     "metadata": {},
     "output_type": "execute_result"
    }
   ],
   "source": [
    "wells_fargo_leis = banks.filter(col(\"respondent_name\").like(\"Wells Fargo Bank, National Association\"))\n",
    "wells_fargo_leis.toPandas()"
   ]
  },
  {
   "cell_type": "code",
   "execution_count": 32,
   "id": "2663f0fc-5d09-4d10-ab7d-542e3bf58c7b",
   "metadata": {},
   "outputs": [
    {
     "data": {
      "text/html": [
       "<div>\n",
       "<style scoped>\n",
       "    .dataframe tbody tr th:only-of-type {\n",
       "        vertical-align: middle;\n",
       "    }\n",
       "\n",
       "    .dataframe tbody tr th {\n",
       "        vertical-align: top;\n",
       "    }\n",
       "\n",
       "    .dataframe thead th {\n",
       "        text-align: right;\n",
       "    }\n",
       "</style>\n",
       "<table border=\"1\" class=\"dataframe\">\n",
       "  <thead>\n",
       "    <tr style=\"text-align: right;\">\n",
       "      <th></th>\n",
       "      <th>respondent_name</th>\n",
       "      <th>arid_2017</th>\n",
       "      <th>lei_2018</th>\n",
       "      <th>lei_2019</th>\n",
       "      <th>lei_2020</th>\n",
       "    </tr>\n",
       "  </thead>\n",
       "  <tbody>\n",
       "    <tr>\n",
       "      <th>0</th>\n",
       "      <td>Wells Fargo Bank, National Association</td>\n",
       "      <td>9451965</td>\n",
       "      <td>KB1H1DSPRFMYMCUFXT09</td>\n",
       "      <td>KB1H1DSPRFMYMCUFXT09</td>\n",
       "      <td>KB1H1DSPRFMYMCUFXT09</td>\n",
       "    </tr>\n",
       "  </tbody>\n",
       "</table>\n",
       "</div>"
      ],
      "text/plain": [
       "                          respondent_name arid_2017              lei_2018  \\\n",
       "0  Wells Fargo Bank, National Association   9451965  KB1H1DSPRFMYMCUFXT09   \n",
       "\n",
       "               lei_2019              lei_2020  \n",
       "0  KB1H1DSPRFMYMCUFXT09  KB1H1DSPRFMYMCUFXT09  "
      ]
     },
     "execution_count": 32,
     "metadata": {},
     "output_type": "execute_result"
    }
   ],
   "source": [
    "wells_fargo_leis = banks.filter(col(\"respondent_name\").like(\"%Wells Fargo%\"))\n",
    "wells_fargo_leis.toPandas()"
   ]
  },
  {
   "cell_type": "code",
   "execution_count": 33,
   "id": "0a4be5b2-d397-4b25-849d-ea1bbcadadf9",
   "metadata": {},
   "outputs": [
    {
     "data": {
      "text/html": [
       "<div>\n",
       "<style scoped>\n",
       "    .dataframe tbody tr th:only-of-type {\n",
       "        vertical-align: middle;\n",
       "    }\n",
       "\n",
       "    .dataframe tbody tr th {\n",
       "        vertical-align: top;\n",
       "    }\n",
       "\n",
       "    .dataframe thead th {\n",
       "        text-align: right;\n",
       "    }\n",
       "</style>\n",
       "<table border=\"1\" class=\"dataframe\">\n",
       "  <thead>\n",
       "    <tr style=\"text-align: right;\">\n",
       "      <th></th>\n",
       "      <th>respondent_name</th>\n",
       "      <th>arid_2017</th>\n",
       "      <th>lei_2018</th>\n",
       "      <th>lei_2019</th>\n",
       "      <th>lei_2020</th>\n",
       "    </tr>\n",
       "  </thead>\n",
       "  <tbody>\n",
       "    <tr>\n",
       "      <th>0</th>\n",
       "      <td>First National Bank</td>\n",
       "      <td>110004</td>\n",
       "      <td>5493003EW6T31TGECO83</td>\n",
       "      <td>5493003EW6T31TGECO83</td>\n",
       "      <td>5493003EW6T31TGECO83</td>\n",
       "    </tr>\n",
       "    <tr>\n",
       "      <th>1</th>\n",
       "      <td>First Mid Bank &amp; Trust, National Association</td>\n",
       "      <td>110045</td>\n",
       "      <td>549300XOTES5TCS8T794</td>\n",
       "      <td>549300XOTES5TCS8T794</td>\n",
       "      <td>549300XOTES5TCS8T794</td>\n",
       "    </tr>\n",
       "  </tbody>\n",
       "</table>\n",
       "</div>"
      ],
      "text/plain": [
       "                                respondent_name arid_2017  \\\n",
       "0                           First National Bank    110004   \n",
       "1  First Mid Bank & Trust, National Association    110045   \n",
       "\n",
       "               lei_2018              lei_2019              lei_2020  \n",
       "0  5493003EW6T31TGECO83  5493003EW6T31TGECO83  5493003EW6T31TGECO83  \n",
       "1  549300XOTES5TCS8T794  549300XOTES5TCS8T794  549300XOTES5TCS8T794  "
      ]
     },
     "execution_count": 33,
     "metadata": {},
     "output_type": "execute_result"
    }
   ],
   "source": [
    "banks.limit(2).toPandas()"
   ]
  },
  {
   "cell_type": "code",
   "execution_count": 34,
   "id": "da566d41-4eec-4c51-8a58-3a9a63e20649",
   "metadata": {},
   "outputs": [],
   "source": [
    "# wells_fargo_lei = banks.filter(col(\"respondent_name\").like(\"%Wells Fargo%\")).select(\"lei_2020\")\n",
    "# # loans = loans.fillna(0)\n",
    "# x = (loans\n",
    "#     .join(counties, on=loans[\"county_code\"] == counties[\"STATE\"] * 1000 + counties[\"COUNTY\"], how=\"inner\")\n",
    "#     .join(wells_fargo_lei, loans[\"lei\"] == wells_fargo_lei[\"lei_2020\"], how=\"inner\")\n",
    "#     .groupby(\"name\")\n",
    "#     .agg(\n",
    "#         count(\"*\").alias(\"tot_apps\"),\n",
    "#         sum(\"interest_rate\").alias(\"tot_int_rates\")\n",
    "#     )\n",
    "#     .withColumn(\"average_interest_rate\", col(\"tot_int_rates\") / col(\"tot_apps\"))\n",
    "#     .orderBy(col(\"tot_apps\").desc())\n",
    "#     .limit(10)\n",
    "#     .select(\"name\", \"average_interest_rate\")\n",
    "# ) .toPandas()\n",
    "\n",
    "# x_dict = dict(zip(x['name'], x['average_interest_rate']))\n",
    "# x_dict"
   ]
  },
  {
   "cell_type": "code",
   "execution_count": 35,
   "id": "6bb3f6e7-4c0c-49bc-8dcd-53eb2e54eb21",
   "metadata": {},
   "outputs": [
    {
     "name": "stderr",
     "output_type": "stream",
     "text": [
      "                                                                                \r"
     ]
    },
    {
     "data": {
      "text/plain": [
       "{'Milwaukee': 3.1173465727097907,\n",
       " 'Waukesha': 2.8758225602027756,\n",
       " 'Washington': 2.851009389671362,\n",
       " 'Dane': 2.890674955595027,\n",
       " 'Brown': 3.010949119373777,\n",
       " 'Racine': 3.099783715012723,\n",
       " 'Outagamie': 2.979661835748792,\n",
       " 'Winnebago': 3.0284761904761908,\n",
       " 'Ozaukee': 2.8673765432098772,\n",
       " 'Sheboygan': 2.995511111111111}"
      ]
     },
     "execution_count": 35,
     "metadata": {},
     "output_type": "execute_result"
    }
   ],
   "source": [
    "#q7\n",
    "wells_fargo_lei = banks.filter(col(\"respondent_name\").like(\"Wells Fargo Bank, National Association\")).select(\"lei_2020\")\n",
    "x = (loans\n",
    "    .join(counties, on=loans[\"county_code\"] == counties[\"STATE\"] * 1000 + counties[\"COUNTY\"], how=\"inner\")\n",
    "    .join(wells_fargo_lei, loans[\"lei\"] == wells_fargo_lei[\"lei_2020\"], how=\"inner\")\n",
    "    .groupby(\"name\")\n",
    "    .agg(\n",
    "        count(\"*\").alias(\"tot_apps\"),\n",
    "        count(when(col('interest_rate') != 0, 1)).alias('tot_no_zero_apps'),\n",
    "        sum(\"interest_rate\").alias(\"tot_int_rates\")\n",
    "    )\n",
    "    .withColumn(\"average_interest_rate\", col(\"tot_int_rates\") / col(\"tot_no_zero_apps\"))\n",
    "    .orderBy(col(\"tot_apps\").desc())\n",
    "    .limit(10)\n",
    "    .select(\"name\", \"average_interest_rate\")\n",
    ") .toPandas()\n",
    "\n",
    "x_dict = dict(zip(x['name'], x['average_interest_rate']))\n",
    "x_dict"
   ]
  },
  {
   "cell_type": "code",
   "execution_count": 36,
   "id": "e532a4da-f28d-45cb-834d-324545cf63e0",
   "metadata": {},
   "outputs": [
    {
     "data": {
      "image/png": "[encoded data removed]",
      "text/plain": [
       "<Figure size 640x480 with 1 Axes>"
      ]
     },
     "metadata": {},
     "output_type": "display_data"
    }
   ],
   "source": [
    "x.set_index(\"name\").plot(kind=\"bar\", legend=False)\n",
    "plt.xlabel(\"County\")\n",
    "plt.ylabel(\"Avg Interest Rate\")\n",
    "plt.title(\"Avg Interest Rates for Wells Fargo Applications across Top Ten Counties\")\n",
    "plt.show()\n"
   ]
  },
  {
   "cell_type": "code",
   "execution_count": 37,
   "id": "b8156f07-6023-4d0e-b7d2-458e2faef70b",
   "metadata": {},
   "outputs": [
    {
     "name": "stdout",
     "output_type": "stream",
     "text": [
      "== Physical Plan ==\n",
      "AdaptiveSparkPlan (5)\n",
      "+- HashAggregate (4)\n",
      "   +- HashAggregate (3)\n",
      "      +- Project (2)\n",
      "         +- Scan parquet spark_catalog.default.loans (1)\n",
      "\n",
      "\n",
      "(1) Scan parquet spark_catalog.default.loans\n",
      "Output [2]: [county_code#695, interest_rate#714]\n",
      "Batched: true\n",
      "Bucketed: true\n",
      "Location: InMemoryFileIndex [hdfs://nn:9000/user/hive/warehouse/loans]\n",
      "ReadSchema: struct<county_code:string,interest_rate:string>\n",
      "SelectedBucketsCount: 8 out of 8\n",
      "\n",
      "(2) Project\n",
      "Output [2]: [county_code#695, cast(interest_rate#714 as double) AS interest_rate#1911]\n",
      "Input [2]: [county_code#695, interest_rate#714]\n",
      "\n",
      "(3) HashAggregate\n",
      "Input [2]: [county_code#695, interest_rate#1911]\n",
      "Keys [1]: [county_code#695]\n",
      "Functions [1]: [partial_avg(interest_rate#1911)]\n",
      "Aggregate Attributes [2]: [sum#2114, count#2115L]\n",
      "Results [3]: [county_code#695, sum#2116, count#2117L]\n",
      "\n",
      "(4) HashAggregate\n",
      "Input [3]: [county_code#695, sum#2116, count#2117L]\n",
      "Keys [1]: [county_code#695]\n",
      "Functions [1]: [avg(interest_rate#1911)]\n",
      "Aggregate Attributes [1]: [avg(interest_rate#1911)#2110]\n",
      "Results [2]: [county_code#695, avg(interest_rate#1911)#2110 AS avg(interest_rate)#2111]\n",
      "\n",
      "(5) AdaptiveSparkPlan\n",
      "Output [2]: [county_code#695, avg(interest_rate)#2111]\n",
      "Arguments: isFinalPlan=false\n",
      "\n",
      "\n",
      "== Physical Plan ==\n",
      "AdaptiveSparkPlan (6)\n",
      "+- HashAggregate (5)\n",
      "   +- Exchange (4)\n",
      "      +- HashAggregate (3)\n",
      "         +- Project (2)\n",
      "            +- Scan parquet spark_catalog.default.loans (1)\n",
      "\n",
      "\n",
      "(1) Scan parquet spark_catalog.default.loans\n",
      "Output [2]: [lei#692, interest_rate#714]\n",
      "Batched: true\n",
      "Bucketed: false (bucket column(s) not read)\n",
      "Location: InMemoryFileIndex [hdfs://nn:9000/user/hive/warehouse/loans]\n",
      "ReadSchema: struct<lei:string,interest_rate:string>\n",
      "\n",
      "(2) Project\n",
      "Output [2]: [lei#692, cast(interest_rate#714 as double) AS interest_rate#1911]\n",
      "Input [2]: [lei#692, interest_rate#714]\n",
      "\n",
      "(3) HashAggregate\n",
      "Input [2]: [lei#692, interest_rate#1911]\n",
      "Keys [1]: [lei#692]\n",
      "Functions [1]: [partial_avg(interest_rate#1911)]\n",
      "Aggregate Attributes [2]: [sum#2221, count#2222L]\n",
      "Results [3]: [lei#692, sum#2223, count#2224L]\n",
      "\n",
      "(4) Exchange\n",
      "Input [3]: [lei#692, sum#2223, count#2224L]\n",
      "Arguments: hashpartitioning(lei#692, 200), ENSURE_REQUIREMENTS, [plan_id=1210]\n",
      "\n",
      "(5) HashAggregate\n",
      "Input [3]: [lei#692, sum#2223, count#2224L]\n",
      "Keys [1]: [lei#692]\n",
      "Functions [1]: [avg(interest_rate#1911)]\n",
      "Aggregate Attributes [1]: [avg(interest_rate#1911)#2217]\n",
      "Results [2]: [lei#692, avg(interest_rate#1911)#2217 AS avg(interest_rate)#2218]\n",
      "\n",
      "(6) AdaptiveSparkPlan\n",
      "Output [2]: [lei#692, avg(interest_rate)#2218]\n",
      "Arguments: isFinalPlan=false\n",
      "\n",
      "\n"
     ]
    }
   ],
   "source": [
    "#q8\n",
    "# Situation 1: GROUP BY county_code\n",
    "# No Exhange in the Physical Plan. Since while loading the data into Hive table we specified it should be bucketedBy \"8\"\n",
    "# basis the county_code, so no network I/O required in this situation, as data for each county_code is likely stored on \n",
    "# the same node/bucket.\n",
    "loans = loans.withColumn(\"interest_rate\", col(\"interest_rate\").cast(\"double\"))\n",
    "loans.groupBy(\"county_code\").mean(\"interest_rate\").explain(\"formatted\")\n",
    "\n",
    "\n",
    "# Situation 2: GROUP BY lei column\n",
    "# Exchange present in the Physical Plan at index 4. Network I/O may be required in this situation, since all the lei cannot\n",
    "# be guatanteed to be in the same bucket as mentioned above we created Hive table by bucketing county_code and not lei so\n",
    "# it is possible that the data for different \"lei\" values is distributed across nodes. The partial results for each \n",
    "# \"lei\" group may need to be combined from multiple nodes to compute the final mean and hence once can expect some network \n",
    "# I/O to take place here.\n",
    "loans.groupBy(\"lei\").mean(\"interest_rate\").explain(\"formatted\")"
   ]
  },
  {
   "cell_type": "code",
   "execution_count": 38,
   "id": "672f5b11-6e6c-47b4-9249-53e5cba9e515",
   "metadata": {},
   "outputs": [
    {
     "name": "stderr",
     "output_type": "stream",
     "text": [
      "                                                                                \r"
     ]
    },
    {
     "data": {
      "text/html": [
       "<div>\n",
       "<style scoped>\n",
       "    .dataframe tbody tr th:only-of-type {\n",
       "        vertical-align: middle;\n",
       "    }\n",
       "\n",
       "    .dataframe tbody tr th {\n",
       "        vertical-align: top;\n",
       "    }\n",
       "\n",
       "    .dataframe thead th {\n",
       "        text-align: right;\n",
       "    }\n",
       "</style>\n",
       "<table border=\"1\" class=\"dataframe\">\n",
       "  <thead>\n",
       "    <tr style=\"text-align: right;\">\n",
       "      <th></th>\n",
       "      <th>id</th>\n",
       "      <th>action_taken</th>\n",
       "    </tr>\n",
       "  </thead>\n",
       "  <tbody>\n",
       "    <tr>\n",
       "      <th>0</th>\n",
       "      <td>1</td>\n",
       "      <td>Loan originated</td>\n",
       "    </tr>\n",
       "    <tr>\n",
       "      <th>1</th>\n",
       "      <td>2</td>\n",
       "      <td>Application approved but not accepted</td>\n",
       "    </tr>\n",
       "    <tr>\n",
       "      <th>2</th>\n",
       "      <td>3</td>\n",
       "      <td>Application denied by financial institution</td>\n",
       "    </tr>\n",
       "    <tr>\n",
       "      <th>3</th>\n",
       "      <td>4</td>\n",
       "      <td>Application withdrawn by applicant</td>\n",
       "    </tr>\n",
       "    <tr>\n",
       "      <th>4</th>\n",
       "      <td>5</td>\n",
       "      <td>File closed for incompleteness</td>\n",
       "    </tr>\n",
       "    <tr>\n",
       "      <th>5</th>\n",
       "      <td>6</td>\n",
       "      <td>Loan purchased by the institution</td>\n",
       "    </tr>\n",
       "    <tr>\n",
       "      <th>6</th>\n",
       "      <td>7</td>\n",
       "      <td>Preapproval request denied by financial instit...</td>\n",
       "    </tr>\n",
       "    <tr>\n",
       "      <th>7</th>\n",
       "      <td>8</td>\n",
       "      <td>Preapproval request approved but not accepted</td>\n",
       "    </tr>\n",
       "  </tbody>\n",
       "</table>\n",
       "</div>"
      ],
      "text/plain": [
       "   id                                       action_taken\n",
       "0   1                                    Loan originated\n",
       "1   2              Application approved but not accepted\n",
       "2   3        Application denied by financial institution\n",
       "3   4                 Application withdrawn by applicant\n",
       "4   5                     File closed for incompleteness\n",
       "5   6                  Loan purchased by the institution\n",
       "6   7  Preapproval request denied by financial instit...\n",
       "7   8      Preapproval request approved but not accepted"
      ]
     },
     "execution_count": 38,
     "metadata": {},
     "output_type": "execute_result"
    }
   ],
   "source": [
    "action_taken=spark.table(\"action_taken\")\n",
    "action_taken.limit(10).toPandas()"
   ]
  },
  {
   "cell_type": "code",
   "execution_count": 39,
   "id": "993316c1-9f32-43ae-b661-28828b253f0b",
   "metadata": {},
   "outputs": [],
   "source": [
    "# First, perform the join\n",
    "joined_df = loans.join(action_taken, on=loans[\"action_taken\"] == action_taken[\"id\"], how=\"inner\")"
   ]
  },
  {
   "cell_type": "code",
   "execution_count": 40,
   "id": "fc262ce9-5e30-49a7-81c1-a3055ad3042c",
   "metadata": {},
   "outputs": [
    {
     "name": "stderr",
     "output_type": "stream",
     "text": [
      "                                                                                \r"
     ]
    },
    {
     "data": {
      "text/html": [
       "<div>\n",
       "<style scoped>\n",
       "    .dataframe tbody tr th:only-of-type {\n",
       "        vertical-align: middle;\n",
       "    }\n",
       "\n",
       "    .dataframe tbody tr th {\n",
       "        vertical-align: top;\n",
       "    }\n",
       "\n",
       "    .dataframe thead th {\n",
       "        text-align: right;\n",
       "    }\n",
       "</style>\n",
       "<table border=\"1\" class=\"dataframe\">\n",
       "  <thead>\n",
       "    <tr style=\"text-align: right;\">\n",
       "      <th></th>\n",
       "      <th>loan_amount</th>\n",
       "      <th>income</th>\n",
       "      <th>interest_rate</th>\n",
       "      <th>approval</th>\n",
       "    </tr>\n",
       "  </thead>\n",
       "  <tbody>\n",
       "    <tr>\n",
       "      <th>0</th>\n",
       "      <td>255000.0</td>\n",
       "      <td>210.0</td>\n",
       "      <td>0.000</td>\n",
       "      <td>1</td>\n",
       "    </tr>\n",
       "    <tr>\n",
       "      <th>1</th>\n",
       "      <td>435000.0</td>\n",
       "      <td>0.0</td>\n",
       "      <td>3.125</td>\n",
       "      <td>0</td>\n",
       "    </tr>\n",
       "  </tbody>\n",
       "</table>\n",
       "</div>"
      ],
      "text/plain": [
       "   loan_amount  income  interest_rate  approval\n",
       "0     255000.0   210.0          0.000         1\n",
       "1     435000.0     0.0          3.125         0"
      ]
     },
     "execution_count": 40,
     "metadata": {},
     "output_type": "execute_result"
    }
   ],
   "source": [
    "df = loans.join(action_taken, on=loans[\"action_taken\"] == action_taken[\"id\"], how=\"inner\").select(\n",
    "    col(\"loan_amount\").cast(\"double\"),\n",
    "    col(\"income\").cast(\"double\"),\n",
    "    col(\"interest_rate\"),\n",
    "    when(action_taken[\"action_taken\"].like(\"%Loan originated%\"), 1).otherwise(0).alias(\"approval\")\n",
    ")\n",
    "\n",
    "df = df.fillna(0.0, subset=[\"loan_amount\", \"income\", \"interest_rate\",\"approval\"])\n",
    "\n",
    "df.limit(2).toPandas()"
   ]
  },
  {
   "cell_type": "code",
   "execution_count": 41,
   "id": "3d3ef470-51bc-4fd9-9a86-f50c5ef46f05",
   "metadata": {},
   "outputs": [],
   "source": [
    "# deterministic split\n",
    "train, test = df.randomSplit([0.8, 0.2], seed=41) "
   ]
  },
  {
   "cell_type": "code",
   "execution_count": 42,
   "id": "6cbe804e-ce5c-4fa1-a4cd-e3570479b45f",
   "metadata": {},
   "outputs": [],
   "source": [
    "train = train.cache()"
   ]
  },
  {
   "cell_type": "code",
   "execution_count": 43,
   "id": "7f167b85-08c9-4f13-8a57-b51b62d0668d",
   "metadata": {},
   "outputs": [
    {
     "name": "stderr",
     "output_type": "stream",
     "text": [
      "                                                                                \r"
     ]
    },
    {
     "data": {
      "text/plain": [
       "(357528, 89839)"
      ]
     },
     "execution_count": 43,
     "metadata": {},
     "output_type": "execute_result"
    }
   ],
   "source": [
    "train.count(), test.count()"
   ]
  },
  {
   "cell_type": "code",
   "execution_count": 44,
   "id": "638ddb54-6470-4820-b6f4-2fb03468469e",
   "metadata": {},
   "outputs": [
    {
     "name": "stderr",
     "output_type": "stream",
     "text": [
      "                                                                                \r"
     ]
    },
    {
     "data": {
      "text/plain": [
       "242868"
      ]
     },
     "execution_count": 44,
     "metadata": {},
     "output_type": "execute_result"
    }
   ],
   "source": [
    "#q9\n",
    "approved_loans = train.filter(train[\"approval\"] == 1).count()\n",
    "approved_loans"
   ]
  },
  {
   "cell_type": "code",
   "execution_count": 45,
   "id": "28b4221b-71cf-4d62-bc35-af150edcde67",
   "metadata": {},
   "outputs": [
    {
     "data": {
      "text/plain": [
       "VectorAssembler_36378b920df7"
      ]
     },
     "execution_count": 45,
     "metadata": {},
     "output_type": "execute_result"
    }
   ],
   "source": [
    "va = VectorAssembler(inputCols=[\"loan_amount\", \"income\", \"interest_rate\"], outputCol=\"features\")\n",
    "va"
   ]
  },
  {
   "cell_type": "code",
   "execution_count": 46,
   "id": "2cbd5046-b9ac-4aaf-ae9d-25214e5b9a8f",
   "metadata": {},
   "outputs": [
    {
     "name": "stderr",
     "output_type": "stream",
     "text": [
      "                                                                                \r"
     ]
    }
   ],
   "source": [
    "dt = DecisionTreeClassifier(featuresCol=\"features\", labelCol=\"approval\", maxDepth=5)\n",
    "model = dt.fit(va.transform(train))"
   ]
  },
  {
   "cell_type": "code",
   "execution_count": 47,
   "id": "b20881af-9c10-4f8c-9627-38f4290ee235",
   "metadata": {},
   "outputs": [],
   "source": [
    "predictions = model.transform(va.transform(test))"
   ]
  },
  {
   "cell_type": "code",
   "execution_count": 48,
   "id": "e1e89594-740d-4074-9dd3-b08e0503d69c",
   "metadata": {},
   "outputs": [],
   "source": [
    "accuracy = MulticlassClassificationEvaluator(labelCol=\"approval\", predictionCol=\"prediction\", metricName=\"accuracy\")"
   ]
  },
  {
   "cell_type": "code",
   "execution_count": 49,
   "id": "8a5950df-b237-434b-bc7a-401ad16d5a65",
   "metadata": {},
   "outputs": [
    {
     "name": "stderr",
     "output_type": "stream",
     "text": [
      "                                                                                \r"
     ]
    },
    {
     "data": {
      "text/plain": [
       "0.8932646178163158"
      ]
     },
     "execution_count": 49,
     "metadata": {},
     "output_type": "execute_result"
    }
   ],
   "source": [
    "#q10\n",
    "x = accuracy.evaluate(predictions)\n",
    "x"
   ]
  }
 ],
 "metadata": {
  "kernelspec": {
   "display_name": "Python 3 (ipykernel)",
   "language": "python",
   "name": "python3"
  },
  "language_info": {
   "codemirror_mode": {
    "name": "ipython",
    "version": 3
   },
   "file_extension": ".py",
   "mimetype": "text/x-python",
   "name": "python",
   "nbconvert_exporter": "python",
   "pygments_lexer": "ipython3",
   "version": "3.10.12"
  }
 },
 "nbformat": 4,
 "nbformat_minor": 5
}
